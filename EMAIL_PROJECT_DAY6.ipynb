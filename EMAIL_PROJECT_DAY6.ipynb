{
 "cells": [
  {
   "cell_type": "code",
   "execution_count": 1,
   "metadata": {},
   "outputs": [
    {
     "name": "stdout",
     "output_type": "stream",
     "text": [
      "Collecting emails\n",
      "  Downloading emails-0.6-py2.py3-none-any.whl (56 kB)\n",
      "Collecting cssutils\n",
      "  Downloading cssutils-1.0.2-py3-none-any.whl (406 kB)\n",
      "Requirement already satisfied: chardet in c:\\users\\user\\anaconda3\\lib\\site-packages (from emails) (3.0.4)\n",
      "Requirement already satisfied: lxml in c:\\users\\user\\anaconda3\\lib\\site-packages (from emails) (4.5.0)\n",
      "Requirement already satisfied: python-dateutil in c:\\users\\user\\anaconda3\\lib\\site-packages (from emails) (2.8.1)\n",
      "Collecting premailer\n",
      "  Downloading premailer-3.7.0-py2.py3-none-any.whl (18 kB)\n",
      "Requirement already satisfied: requests in c:\\users\\user\\anaconda3\\lib\\site-packages (from emails) (2.22.0)\n",
      "Requirement already satisfied: six>=1.5 in c:\\users\\user\\anaconda3\\lib\\site-packages (from python-dateutil->emails) (1.14.0)\n",
      "Collecting cachetools\n",
      "  Downloading cachetools-4.2.0-py3-none-any.whl (12 kB)\n",
      "Collecting cssselect\n",
      "  Downloading cssselect-1.1.0-py2.py3-none-any.whl (16 kB)\n",
      "Requirement already satisfied: certifi>=2017.4.17 in c:\\users\\user\\anaconda3\\lib\\site-packages (from requests->emails) (2019.11.28)\n",
      "Requirement already satisfied: urllib3!=1.25.0,!=1.25.1,<1.26,>=1.21.1 in c:\\users\\user\\anaconda3\\lib\\site-packages (from requests->emails) (1.25.8)\n",
      "Requirement already satisfied: idna<2.9,>=2.5 in c:\\users\\user\\anaconda3\\lib\\site-packages (from requests->emails) (2.8)\n",
      "Installing collected packages: cssutils, cachetools, cssselect, premailer, emails\n",
      "Successfully installed cachetools-4.2.0 cssselect-1.1.0 cssutils-1.0.2 emails-0.6 premailer-3.7.0\n"
     ]
    }
   ],
   "source": [
    "!pip install emails"
   ]
  },
  {
   "cell_type": "code",
   "execution_count": 2,
   "metadata": {},
   "outputs": [],
   "source": [
    "import emails"
   ]
  },
  {
   "cell_type": "code",
   "execution_count": 10,
   "metadata": {},
   "outputs": [],
   "source": [
    "html_text = '''<p><strong><span style='font-family: \"Comic Sans MS\", sans-serif; background-color: rgb(247, 218, 100);'>Hey Rowdy,</span></strong></p>\n",
    "<p><span style=\"font-family: Comic Sans MS, sans-serif;\"><br></span></p>\n",
    "<p><span style=\"font-family: Comic Sans MS, sans-serif;\">I&apos;m a student from letsupgrade .hope this will help me in the future</span></p>\n",
    "<p><span style=\"font-family: Comic Sans MS, sans-serif;\">with hopes</span></p>\n",
    "<p><span style=\"font-family: Comic Sans MS, sans-serif;\">A student from LU!!!</span></p>\n",
    "<p><strong><span style='font-family: \"Comic Sans MS\", sans-serif; background-color: rgb(243, 121, 52);'>Be motivated And Work hard!</span></strong></p>\n",
    "<p><br></p>'''\n",
    "\n",
    "\n",
    "\n",
    "\n",
    "\n",
    "message = emails.html(html=html_text,\n",
    "                          subject=\"Your Email from python script\",\n",
    "                          mail_from=('ROWDY letsupgrade', 'lets@xyz.com'))"
   ]
  },
  {
   "cell_type": "code",
   "execution_count": 15,
   "metadata": {},
   "outputs": [],
   "source": [
    "mail_via_python = message.send(to='gaxob59546@94jo.com',\n",
    "                               smtp={'host': 'smtp.gmail.com',\n",
    "                                     'timeout': 5,\n",
    "                                     'port':587,\n",
    "                                     'user':'chippyjoseph1235@gmail.com',\n",
    "                                     'password':'chippykutty',\n",
    "                                     'tls':True})"
   ]
  },
  {
   "cell_type": "code",
   "execution_count": 12,
   "metadata": {},
   "outputs": [
    {
     "data": {
      "text/plain": [
       "250"
      ]
     },
     "execution_count": 12,
     "metadata": {},
     "output_type": "execute_result"
    }
   ],
   "source": [
    "mail_via_python.status_code"
   ]
  },
  {
   "cell_type": "code",
   "execution_count": 16,
   "metadata": {},
   "outputs": [],
   "source": [
    "def sendMail(email,name):\n",
    "    \n",
    "    html_text = '''<p><strong><span style='font-family: \"Comic Sans MS\", sans-serif; background-color: rgb(247, 218, 100);'>Hey Rowdy,'''+ name+'''</span></strong></p>\n",
    "                <p><span style=\"font-family: Comic Sans MS, sans-serif;\"><br></span></p>\n",
    "                <p><span style=\"font-family: Comic Sans MS, sans-serif;\">I&apos;m a student from letsupgrade .hope this will help me in the future</span></p>\n",
    "                <p><span style=\"font-family: Comic Sans MS, sans-serif;\">with hopes</span></p>\n",
    "                <p><span style=\"font-family: Comic Sans MS, sans-serif;\">A student from LU!!!</span></p>\n",
    "                <p><strong><span style='font-family: \"Comic Sans MS\", sans-serif; background-color: rgb(243, 121, 52);'>Be motivated And Work hard!</span></strong></p>\n",
    "                <p><br></p>'''\n",
    "\n",
    "\n",
    "\n",
    "\n",
    "    subject = \"Hey Rowdy\"+ name +\", you have email from letsupgrade\"\n",
    "    message = emails.html(html=html_text,\n",
    "                          subject=subject,\n",
    "                          mail_from=('ROWDY letsupgrade', 'lets@xyz.com'))\n",
    "    \n",
    "   \n",
    "    mail_via_python = message.send(to=email,\n",
    "                               smtp={'host': 'smtp.gmail.com',\n",
    "                                     'timeout': 5,\n",
    "                                     'port':587,\n",
    "                                     'user':'chippyjoseph1235@gmail.com',\n",
    "                                     'password':'chippykutty',\n",
    "                                     'tls':True})\n",
    "    return mail_via_python.status_code\n",
    "    "
   ]
  },
  {
   "cell_type": "code",
   "execution_count": 18,
   "metadata": {},
   "outputs": [
    {
     "data": {
      "text/plain": [
       "250"
      ]
     },
     "execution_count": 18,
     "metadata": {},
     "output_type": "execute_result"
    }
   ],
   "source": [
    "sendMail(\"gaxob59546@94jo.com\",\"chippy\")"
   ]
  },
  {
   "cell_type": "code",
   "execution_count": null,
   "metadata": {},
   "outputs": [],
   "source": []
  }
 ],
 "metadata": {
  "kernelspec": {
   "display_name": "Python 3",
   "language": "python",
   "name": "python3"
  },
  "language_info": {
   "codemirror_mode": {
    "name": "ipython",
    "version": 3
   },
   "file_extension": ".py",
   "mimetype": "text/x-python",
   "name": "python",
   "nbconvert_exporter": "python",
   "pygments_lexer": "ipython3",
   "version": "3.7.6"
  },
  "toc": {
   "base_numbering": 1,
   "nav_menu": {},
   "number_sections": true,
   "sideBar": true,
   "skip_h1_title": false,
   "title_cell": "Table of Contents",
   "title_sidebar": "Contents",
   "toc_cell": false,
   "toc_position": {},
   "toc_section_display": true,
   "toc_window_display": false
  }
 },
 "nbformat": 4,
 "nbformat_minor": 4
}
