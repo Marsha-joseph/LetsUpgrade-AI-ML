{
 "cells": [
  {
   "cell_type": "markdown",
   "metadata": {},
   "source": [
    "1) 5 different functions of the string in python"
   ]
  },
  {
   "cell_type": "code",
   "execution_count": 2,
   "metadata": {},
   "outputs": [
    {
     "name": "stdout",
     "output_type": "stream",
     "text": [
      "0\n",
      "2\n",
      "4\n"
     ]
    }
   ],
   "source": [
    "s = 'abcd1234dcba'#index()\n",
    "\n",
    "print(s.index('a'))\n",
    "print(s.index('cd'))\n",
    "print(s.index('1', 0, 5))"
   ]
  },
  {
   "cell_type": "code",
   "execution_count": 3,
   "metadata": {},
   "outputs": [
    {
     "name": "stdout",
     "output_type": "stream",
     "text": [
      "['Python', 'is Nice']\n"
     ]
    }
   ],
   "source": [
    "s = 'Python is Nice'#split fn\n",
    "\n",
    "str_list = s.split(sep=' ', maxsplit=1)\n",
    "print(str_list)"
   ]
  },
  {
   "cell_type": "code",
   "execution_count": 4,
   "metadata": {},
   "outputs": [
    {
     "name": "stdout",
     "output_type": "stream",
     "text": [
      "e u i a o\n"
     ]
    }
   ],
   "source": [
    "vowels_set = set(('a', 'e', 'i', 'o', 'u')) #join()\n",
    "\n",
    "print(\" \".join(vowels_set))"
   ]
  },
  {
   "cell_type": "code",
   "execution_count": 5,
   "metadata": {},
   "outputs": [
    {
     "name": "stdout",
     "output_type": "stream",
     "text": [
      "Uppercase String = ABCDEF%$\n",
      "Original String = abcDEF%$\n"
     ]
    }
   ],
   "source": [
    "s = 'abcDEF%$'# uppercase\n",
    "\n",
    "print('Uppercase String =', s.upper())\n",
    "print('Original String =', s)"
   ]
  },
  {
   "cell_type": "code",
   "execution_count": 6,
   "metadata": {},
   "outputs": [
    {
     "name": "stdout",
     "output_type": "stream",
     "text": [
      "Lowercase String = 987abcdef%$\n",
      "Original String = 987abcDEF%$\n"
     ]
    }
   ],
   "source": [
    "s = '987abcDEF%$'#lowercase\n",
    "\n",
    "print('Lowercase String =', s.lower())\n",
    "print('Original String =', s)"
   ]
  },
  {
   "cell_type": "markdown",
   "metadata": {},
   "source": [
    "2) 5 different functions of list object in python"
   ]
  },
  {
   "cell_type": "code",
   "execution_count": 7,
   "metadata": {},
   "outputs": [
    {
     "name": "stdout",
     "output_type": "stream",
     "text": [
      "Updated animals list:  ['cat', 'dog', 'rabbit', ['tiger', 'fox']]\n"
     ]
    }
   ],
   "source": [
    "animals = ['cat', 'dog', 'rabbit']#list append()\n",
    "wild_animals = ['tiger', 'fox']\n",
    "animals.append(wild_animals)\n",
    "print('Updated animals list: ', animals)"
   ]
  },
  {
   "cell_type": "code",
   "execution_count": 8,
   "metadata": {},
   "outputs": [
    {
     "name": "stdout",
     "output_type": "stream",
     "text": [
      "Updated List: ['a', 'e', 'i', 'o', 'u']\n"
     ]
    }
   ],
   "source": [
    "vowel = ['a', 'e', 'i', 'u']# list insert()\n",
    "vowel.insert(3, 'o')\n",
    "print('Updated List:', vowel)"
   ]
  },
  {
   "cell_type": "code",
   "execution_count": 9,
   "metadata": {},
   "outputs": [
    {
     "name": "stdout",
     "output_type": "stream",
     "text": [
      "Updated animals list:  ['cat', 'dog', 'guinea pig', 'dog']\n"
     ]
    }
   ],
   "source": [
    "animals = ['cat', 'dog', 'dog', 'guinea pig', 'dog']# list remove()\n",
    "animals.remove('dog')\n",
    "print('Updated animals list: ', animals)"
   ]
  },
  {
   "cell_type": "code",
   "execution_count": 11,
   "metadata": {},
   "outputs": [
    {
     "name": "stdout",
     "output_type": "stream",
     "text": [
      "Language List: ['French', 'English', 'Spanish', 'Portuguese']\n"
     ]
    }
   ],
   "source": [
    "language = ['French', 'English']# list extend()\n",
    "language1 = ['Spanish', 'Portuguese']\n",
    "language.extend(language1)\n",
    "\n",
    "print('Language List:', language)"
   ]
  },
  {
   "cell_type": "code",
   "execution_count": 13,
   "metadata": {},
   "outputs": [
    {
     "name": "stdout",
     "output_type": "stream",
     "text": [
      "The count of i is: 2\n",
      "The count of p is: 0\n"
     ]
    }
   ],
   "source": [
    "vowels = ['a', 'e', 'i', 'o', 'i', 'u']# list count()\n",
    "count = vowels.count('i')\n",
    "print('The count of i is:', count)\n",
    "count = vowels.count('p')\n",
    "print('The count of p is:', count)"
   ]
  },
  {
   "cell_type": "markdown",
   "metadata": {},
   "source": [
    "3) experiment with atleast 5 default functions of dictionary"
   ]
  },
  {
   "cell_type": "code",
   "execution_count": 15,
   "metadata": {},
   "outputs": [
    {
     "name": "stdout",
     "output_type": "stream",
     "text": [
      "False\n",
      "True\n",
      "6\n",
      "[0, 1, 3, 5, 7, 9]\n"
     ]
    }
   ],
   "source": [
    "squares = {0: 0, 1: 1, 3: 9, 5: 25, 7: 49, 9: 81}\n",
    "print(all(squares))\n",
    "\n",
    "print(any(squares))\n",
    "\n",
    "print(len(squares))\n",
    "\n",
    "print(sorted(squares))"
   ]
  },
  {
   "cell_type": "code",
   "execution_count": null,
   "metadata": {},
   "outputs": [],
   "source": []
  }
 ],
 "metadata": {
  "kernelspec": {
   "display_name": "Python 3",
   "language": "python",
   "name": "python3"
  },
  "language_info": {
   "codemirror_mode": {
    "name": "ipython",
    "version": 3
   },
   "file_extension": ".py",
   "mimetype": "text/x-python",
   "name": "python",
   "nbconvert_exporter": "python",
   "pygments_lexer": "ipython3",
   "version": "3.7.6"
  },
  "toc": {
   "base_numbering": 1,
   "nav_menu": {},
   "number_sections": true,
   "sideBar": true,
   "skip_h1_title": false,
   "title_cell": "Table of Contents",
   "title_sidebar": "Contents",
   "toc_cell": false,
   "toc_position": {},
   "toc_section_display": true,
   "toc_window_display": false
  }
 },
 "nbformat": 4,
 "nbformat_minor": 4
}
